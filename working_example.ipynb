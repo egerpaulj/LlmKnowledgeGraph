{
 "cells": [
  {
   "cell_type": "code",
   "execution_count": null,
   "id": "b9235a59",
   "metadata": {},
   "outputs": [],
   "source": [
    "from graph import KnowledgeGraph\n",
    "\n",
    "graph = KnowledgeGraph(model=\"gemma3:27b\")"
   ]
  },
  {
   "cell_type": "code",
   "execution_count": 3,
   "id": "3b3b6d30",
   "metadata": {},
   "outputs": [
    {
     "name": "stdout",
     "output_type": "stream",
     "text": [
      "Node found: Vincent de Groof\n",
      "Node found: 6 December 1830\n",
      "Node found: Vincent de Groof\n",
      "Node found: 9 July 1874\n",
      "Node found: Vincent de Groof\n",
      "Node found: Dutch-born Belgian\n",
      "Node found: Vincent de Groof\n",
      "Node found: aeronaut\n",
      "Node found: Vincent de Groof\n",
      "Node found: an ornithopter\n",
      "Relationship found: BORN_ON\n",
      "Relationship found: DEATH_DATE\n",
      "Relationship found: NATIONALITY\n",
      "Relationship found: PROFESSION\n",
      "Relationship found: CREATED_MODEL_OF\n"
     ]
    }
   ],
   "source": [
    "text = '''Vincent de Groof (6 December 1830 – 9 July 1874) was a Dutch-born Belgian early pioneering aeronaut. He created an early model of an ornithopter and successfully demonstrated its use before fatally crashing the machine in London, UK.[1] '''\n",
    "\n",
    "graph.add_to_graph(text, \"https://en.wikipedia.org/wiki/Vincent_de_Groof\", \"Wikipedia\")"
   ]
  },
  {
   "cell_type": "code",
   "execution_count": null,
   "id": "3f63d974",
   "metadata": {},
   "outputs": [],
   "source": []
  }
 ],
 "metadata": {
  "kernelspec": {
   "display_name": "knowledge-graph",
   "language": "python",
   "name": "python3"
  },
  "language_info": {
   "codemirror_mode": {
    "name": "ipython",
    "version": 3
   },
   "file_extension": ".py",
   "mimetype": "text/x-python",
   "name": "python",
   "nbconvert_exporter": "python",
   "pygments_lexer": "ipython3",
   "version": "3.10.17"
  }
 },
 "nbformat": 4,
 "nbformat_minor": 5
}
