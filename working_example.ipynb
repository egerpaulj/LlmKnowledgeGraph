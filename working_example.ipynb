{
 "cells": [
  {
   "cell_type": "code",
   "execution_count": 1,
   "id": "b9235a59",
   "metadata": {},
   "outputs": [],
   "source": [
    "from knowledge_graph import KnowledgeGraph\n",
    "\n",
    "graph = KnowledgeGraph(model=\"gemma3:12b\")"
   ]
  },
  {
   "cell_type": "code",
   "execution_count": 2,
   "id": "3b3b6d30",
   "metadata": {},
   "outputs": [
    {
     "name": "stdout",
     "output_type": "stream",
     "text": [
      "Node found: Anthony Albanese\n",
      "Node found: Australia\n",
      "Node found: Peter Dutton\n",
      "Node found: Anthony Albanese\n",
      "Node found: Peter Dutton\n",
      "Node found: Donald Trump\n",
      "Relationship found: GOVERNED_BY\n",
      "Relationship found: OPPONENT_OF\n",
      "Relationship found: COMPARISON_TO\n"
     ]
    }
   ],
   "source": [
    "text = '''Australia’s centre-left prime minister, Anthony Albanese, has won a second term with a crushing victory over the opposition, whose rightwing leader, Peter Dutton, failed to brush off comparisons with Donald Trump and ended up losing his own seat.\n",
    "Australians have voted for a future that holds true to these values, a future built on everything that brings us together as Australians, and everything that sets our nation apart from the world,” he said.'''\n",
    "\n",
    "graph.add_to_graph(text)"
   ]
  },
  {
   "cell_type": "code",
   "execution_count": null,
   "id": "3f63d974",
   "metadata": {},
   "outputs": [],
   "source": []
  }
 ],
 "metadata": {
  "kernelspec": {
   "display_name": "knowledge-graph",
   "language": "python",
   "name": "python3"
  },
  "language_info": {
   "codemirror_mode": {
    "name": "ipython",
    "version": 3
   },
   "file_extension": ".py",
   "mimetype": "text/x-python",
   "name": "python",
   "nbconvert_exporter": "python",
   "pygments_lexer": "ipython3",
   "version": "3.10.17"
  }
 },
 "nbformat": 4,
 "nbformat_minor": 5
}
